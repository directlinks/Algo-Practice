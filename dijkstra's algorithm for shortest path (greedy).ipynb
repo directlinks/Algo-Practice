{
 "cells": [
  {
   "cell_type": "markdown",
   "metadata": {},
   "source": [
    "# Dijkstra Algorithm (Greedy):\n",
    "\n",
    "## Cons\n",
    "1. Doesn’t calculate the path information---> can be done in Prim's\n",
    "2. Time Complexity of the implementation is O(V^2) if graph is 2-D matrix\n",
    "3. Can't work for negative weight edges, Bellman–Ford algorithm can be used."
   ]
  },
  {
   "cell_type": "code",
   "execution_count": 30,
   "metadata": {},
   "outputs": [
    {
     "name": "stdout",
     "output_type": "stream",
     "text": [
      "[0, 1, 26]\n"
     ]
    }
   ],
   "source": [
    "import sys\n",
    "graph=[[90, 1, 30], [81, 25, 25], [29, 32, 45]]\n",
    "\n",
    "def min_distance_from_src(dist,visited,v):\n",
    "    '''Calculates minimum distance of each node from src'''\n",
    "    minimum=sys.maxsize\n",
    "    \n",
    "    for i in range(v+1):\n",
    "        if visited[i]==False and dist[i]<minimum:\n",
    "            minimum_index=i\n",
    "            minimum=dist[i]\n",
    "    return minimum_index\n",
    "    \n",
    "def dijkstra(graph,u,v):\n",
    "    \n",
    "    dist=[sys.maxsize]*(v+1)\n",
    "    dist[u]=0\n",
    "    visited=[False]*(v+1)\n",
    "    for j in range(v):\n",
    "        u=min_distance_from_src(dist,visited,v)\n",
    "\n",
    "        visited[u]=True\n",
    "    \n",
    "        for i in range(v+1):\n",
    "            if dist[i]>dist[u]+graph[u][i] and visited[i]==False and graph[u][i]>0:\n",
    "                dist[i]=dist[u]+graph[u][i]\n",
    "    \n",
    "    print (dist)\n",
    "\n",
    "dijkstra(graph,0,2)\n",
    "    "
   ]
  }
 ],
 "metadata": {
  "kernelspec": {
   "display_name": "Python 3",
   "language": "python",
   "name": "python3"
  },
  "language_info": {
   "codemirror_mode": {
    "name": "ipython",
    "version": 3
   },
   "file_extension": ".py",
   "mimetype": "text/x-python",
   "name": "python",
   "nbconvert_exporter": "python",
   "pygments_lexer": "ipython3",
   "version": "3.5.2"
  }
 },
 "nbformat": 4,
 "nbformat_minor": 2
}

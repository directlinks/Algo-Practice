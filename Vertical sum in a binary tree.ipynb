{
 "cells": [
  {
   "cell_type": "markdown",
   "metadata": {},
   "source": [
    "# Algorithm\n",
    "\n",
    "1. Mark the horizontal distance of root =0\n",
    "<blockquote>append horizontal distance of root in dict</blockquote>\n",
    "2. horizontal distance of root.left= horizontal distance-1\n",
    "<blockquote>check if horizontal_distance-1 is in dict\n",
    "<blockquote>update value in dict\n",
    "3. horizontal distance of root.right= horizontal distance+1\n",
    "<blockquote>check if horizontal_distance+1 is in dict\n",
    "<blockquote>update value in dict"
   ]
  },
  {
   "cell_type": "code",
   "execution_count": 26,
   "metadata": {},
   "outputs": [
    {
     "name": "stdout",
     "output_type": "stream",
     "text": [
      "{0: 43, -1: 10, -2: 8, 1: 20, 2: 25}\n"
     ]
    }
   ],
   "source": [
    "d={}\n",
    "class tree():\n",
    "    \n",
    "    def __init__(self,data):\n",
    "        self.data=data\n",
    "        self.left=None\n",
    "        self.right=None\n",
    "        \n",
    "    \n",
    "    def insert(self,data):\n",
    "        if self.data:\n",
    "            if data<self.data:\n",
    "                if self.left==None:\n",
    "                    self.left=tree(data)\n",
    "                else:\n",
    "                    self.left.insert(data)\n",
    "            elif data>self.data:\n",
    "                if self.right==None:\n",
    "                    self.right=tree(data)\n",
    "                else:\n",
    "                    self.right.insert(data)\n",
    "        else:\n",
    "            self.data=data\n",
    "    \n",
    "    def vertical_sum(self,horizontal_distance,root):\n",
    "        \n",
    "        if horizontal_distance not in d:\n",
    "            d[horizontal_distance]=root.data\n",
    "        else:\n",
    "            d[horizontal_distance]+=root.data\n",
    "        \n",
    "        if root.left:\n",
    "            self.vertical_sum(horizontal_distance-1,root.left)\n",
    "        \n",
    "        if root.right:\n",
    "            self.vertical_sum(horizontal_distance+1,root.right)\n",
    "    \n",
    "\n",
    "root=tree(15)\n",
    "root.insert(10)\n",
    "root.insert(20)\n",
    "root.insert(8)\n",
    "root.insert(12)\n",
    "root.insert(16)\n",
    "root.insert(25)\n",
    "\n",
    "#                             15\n",
    "#      Tree formation        /  \\\n",
    "#                          10    20\n",
    "#                         / \\    /  \\\n",
    "#                        8  12  16  25\n",
    "\n",
    "root.vertical_sum(0,root)\n",
    "print(d)"
   ]
  },
  {
   "cell_type": "code",
   "execution_count": null,
   "metadata": {},
   "outputs": [],
   "source": [
    "\n"
   ]
  }
 ],
 "metadata": {
  "kernelspec": {
   "display_name": "Python 3",
   "language": "python",
   "name": "python3"
  },
  "language_info": {
   "codemirror_mode": {
    "name": "ipython",
    "version": 3
   },
   "file_extension": ".py",
   "mimetype": "text/x-python",
   "name": "python",
   "nbconvert_exporter": "python",
   "pygments_lexer": "ipython3",
   "version": "3.7.1"
  }
 },
 "nbformat": 4,
 "nbformat_minor": 2
}

{
 "cells": [
  {
   "cell_type": "markdown",
   "metadata": {},
   "source": [
    "1. Inorder (left,root,right)\n",
    "2. Pre order (root,left,right)\n",
    "3. Post Order (left,right,root)\n",
    "\n",
    "# Create Tree and traverse"
   ]
  },
  {
   "cell_type": "code",
   "execution_count": 2,
   "metadata": {},
   "outputs": [
    {
     "name": "stdout",
     "output_type": "stream",
     "text": [
      "[11, 12, 13]\n",
      "[11, 13, 12]\n",
      "[12, 11, 13]\n"
     ]
    }
   ],
   "source": [
    "inorderlist=[]\n",
    "postorderlist=[]\n",
    "preorderlist=[]\n",
    "\n",
    "class node():\n",
    "    \n",
    "    def __init__(self,data):\n",
    "        self.left=None\n",
    "        self.right=None\n",
    "        self.data=data\n",
    "        \n",
    "    def insert(self,data):\n",
    "        if self.data:\n",
    "            '''if tree is not empty and root exists'''\n",
    "            if data<self.data:\n",
    "                '''if given data is less than the parent data then insert at left'''\n",
    "                if self.left is None:\n",
    "                    '''if left node has nothing then insert on the left'''\n",
    "                    self.left=node(data)\n",
    "                else:\n",
    "                    '''else go further left'''\n",
    "                    self.left.insert(data)\n",
    "            elif data>self.data:\n",
    "                if self.right is None: # if right node is empty\n",
    "                    self.right=node(data) #insert in right\n",
    "                else:\n",
    "                    self.right.insert(data) # or go further in right\n",
    "                    \n",
    "        else:\n",
    "            self.data=data\n",
    "    \n",
    "    def inorder(self,root):\n",
    "        if root==None:\n",
    "            return\n",
    "        self.inorder(root.left)\n",
    "        inorderlist.append(root.data)\n",
    "        self.inorder(root.right)\n",
    "    \n",
    "    def preorder(self,root):\n",
    "        if root==None:\n",
    "            return\n",
    "        \n",
    "        preorderlist.append(root.data)\n",
    "        self.preorder(root.left)\n",
    "        self.preorder(root.right)\n",
    "    \n",
    "    def postorder(self,root):\n",
    "        if root==None:\n",
    "            return\n",
    "        \n",
    "        self.postorder(root.left)\n",
    "        self.postorder(root.right)\n",
    "        postorderlist.append(root.data)\n",
    "        \n",
    "root=node(12)\n",
    "root.insert(11)\n",
    "root.insert(13)\n",
    "\n",
    "root.inorder(root)\n",
    "root.preorder(root)\n",
    "root.postorder(root)\n",
    "\n",
    "print(inorderlist)\n",
    "print(postorderlist)\n",
    "print(preorderlist)"
   ]
  },
  {
   "cell_type": "code",
   "execution_count": null,
   "metadata": {},
   "outputs": [],
   "source": []
  }
 ],
 "metadata": {
  "kernelspec": {
   "display_name": "Python 3",
   "language": "python",
   "name": "python3"
  },
  "language_info": {
   "codemirror_mode": {
    "name": "ipython",
    "version": 3
   },
   "file_extension": ".py",
   "mimetype": "text/x-python",
   "name": "python",
   "nbconvert_exporter": "python",
   "pygments_lexer": "ipython3",
   "version": "3.5.2"
  }
 },
 "nbformat": 4,
 "nbformat_minor": 2
}

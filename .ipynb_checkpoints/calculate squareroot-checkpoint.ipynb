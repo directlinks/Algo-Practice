{
 "cells": [
  {
   "cell_type": "markdown",
   "metadata": {},
   "source": [
    "# Using binary Search calculating the square root"
   ]
  },
  {
   "cell_type": "code",
   "execution_count": 16,
   "metadata": {},
   "outputs": [
    {
     "name": "stdout",
     "output_type": "stream",
     "text": [
      "3\n"
     ]
    }
   ],
   "source": [
    "def findsquare(n):\n",
    "    if n==0 or n==1:\n",
    "        return n\n",
    "    start=0\n",
    "    end=n-1\n",
    "    \n",
    "    while(start<=end):\n",
    "        mid=(start+end)//2\n",
    "        \n",
    "        if mid*mid==n:\n",
    "            return mid\n",
    "        elif mid*mid<n:\n",
    "            start=mid+1\n",
    "            answer=mid   # we need floor that is why we are updating the answer\n",
    "        elif mid*mid>n:\n",
    "            end=mid-1\n",
    "    return answer\n",
    "print (findsquare(11))"
   ]
  },
  {
   "cell_type": "code",
   "execution_count": null,
   "metadata": {},
   "outputs": [],
   "source": []
  }
 ],
 "metadata": {
  "kernelspec": {
   "display_name": "Python 3",
   "language": "python",
   "name": "python3"
  },
  "language_info": {
   "codemirror_mode": {
    "name": "ipython",
    "version": 3
   },
   "file_extension": ".py",
   "mimetype": "text/x-python",
   "name": "python",
   "nbconvert_exporter": "python",
   "pygments_lexer": "ipython3",
   "version": "3.5.2"
  }
 },
 "nbformat": 4,
 "nbformat_minor": 2
}

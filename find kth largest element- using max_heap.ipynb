{
 "cells": [
  {
   "cell_type": "code",
   "execution_count": 24,
   "metadata": {},
   "outputs": [
    {
     "name": "stdout",
     "output_type": "stream",
     "text": [
      "[1, 2, 3, 9, 5, 6, 7, 8, 4]\n"
     ]
    }
   ],
   "source": [
    "a=[1,2,3,4,5,6,7,8,9]\n",
    "def max_heap(a,i):\n",
    "    l=(2*i)+1\n",
    "    r=(2*i)+2\n",
    "#     print (a[l],a[r])\n",
    "#     input()\n",
    "    if l<=len(a) and a[l]>a[i]:\n",
    "        largest=l\n",
    "    else:\n",
    "        largest=i\n",
    "    if r<=len(a) and a[r]>a[largest]:\n",
    "        largest=r\n",
    "        \n",
    "    if largest!=i:\n",
    "        a[i],a[largest]=a[largest],a[i]\n",
    "        max_heap(a,largest)\n",
    "\n",
    "max_heap(a,3)\n",
    "print (a)"
   ]
  },
  {
   "cell_type": "code",
   "execution_count": 38,
   "metadata": {},
   "outputs": [
    {
     "name": "stdout",
     "output_type": "stream",
     "text": [
      "4 1\n",
      "[1, 2, 3]\n",
      "[2, 4, 3]\n",
      "5 2\n",
      "[2, 4, 3]\n",
      "[3, 4, 5]\n",
      "6 3\n",
      "[3, 4, 5]\n",
      "[4, 6, 5]\n",
      "7 4\n",
      "[4, 6, 5]\n",
      "[5, 6, 7]\n",
      "8 5\n",
      "[5, 6, 7]\n",
      "[6, 8, 7]\n",
      "9 6\n",
      "[6, 8, 7]\n",
      "[7, 8, 9]\n"
     ]
    },
    {
     "data": {
      "text/plain": [
       "7"
      ]
     },
     "execution_count": 38,
     "metadata": {},
     "output_type": "execute_result"
    }
   ],
   "source": [
    "import heapq\n",
    "def findKthLargest(nums, k):\n",
    "    # minheap\n",
    "    array = nums[:k]\n",
    "    heapq.heapify(array)\n",
    "    for num in nums[k:]:\n",
    "        print (num,array[0])\n",
    "        print (array)\n",
    "        if num > array[0]:\n",
    "            heapq.heapreplace(array, num)\n",
    "            print (array)\n",
    "            \n",
    "            \n",
    "    return array[0]\n",
    "a=[1,2,3,4,5,6,7,8,9]\n",
    "findKthLargest(a,3)"
   ]
  },
  {
   "cell_type": "code",
   "execution_count": 32,
   "metadata": {},
   "outputs": [],
   "source": [
    "nums=[5,4,3,2,1]\n",
    "import heapq \n",
    "heapq.heapify(nums)"
   ]
  },
  {
   "cell_type": "code",
   "execution_count": 33,
   "metadata": {},
   "outputs": [
    {
     "data": {
      "text/plain": [
       "[1, 2, 3, 5, 4]"
      ]
     },
     "execution_count": 33,
     "metadata": {},
     "output_type": "execute_result"
    }
   ],
   "source": [
    "nums"
   ]
  },
  {
   "cell_type": "code",
   "execution_count": null,
   "metadata": {},
   "outputs": [],
   "source": []
  }
 ],
 "metadata": {
  "kernelspec": {
   "display_name": "Python 3",
   "language": "python",
   "name": "python3"
  },
  "language_info": {
   "codemirror_mode": {
    "name": "ipython",
    "version": 3
   },
   "file_extension": ".py",
   "mimetype": "text/x-python",
   "name": "python",
   "nbconvert_exporter": "python",
   "pygments_lexer": "ipython3",
   "version": "3.5.2"
  }
 },
 "nbformat": 4,
 "nbformat_minor": 2
}

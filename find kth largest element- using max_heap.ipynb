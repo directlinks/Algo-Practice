{
 "cells": [
  {
   "cell_type": "markdown",
   "metadata": {},
   "source": [
    "# using Max heap:\n",
    "1. Create a max heap of first k elements i.e a[0] to a[k-1]  ---> O(k)\n",
    "2. traverse the array from a[k] to a[n] and compare if the root of max heap is greater than the array element, if yes then replace the element in heap and run max heap again else proceed as it is. ---> O(n-k*LogK)\n",
    "\n",
    "Time complexity O(k+ (n-k)*LogK)"
   ]
  },
  {
   "cell_type": "code",
   "execution_count": 5,
   "metadata": {},
   "outputs": [
    {
     "name": "stdout",
     "output_type": "stream",
     "text": [
      "7\n"
     ]
    }
   ],
   "source": [
    "a=[1,2,3,4,5,6,7,8,9]\n",
    "############################# max heap for first k elements\n",
    "def max_heap(a,i):\n",
    "    l=(2*i)+1\n",
    "    r=(2*i)+2\n",
    "#     print (a[l],a[r])\n",
    "#     input()\n",
    "    if l<=len(a) and a[l]>a[i]:\n",
    "        largest=l\n",
    "    else:\n",
    "        largest=i\n",
    "    if r<=len(a) and a[r]>a[largest]:\n",
    "        largest=r\n",
    "        \n",
    "    if largest!=i:\n",
    "        a[i],a[largest]=a[largest],a[i]\n",
    "        max_heap(a,largest)\n",
    "\n",
    "max_heap(a,2)\n",
    "\n",
    "################################## n-k elements\n",
    "for j in range(len(a[3:])):\n",
    "    if a[j]>a[0]:\n",
    "        a[0],a[j]=a[j],a[0]\n",
    "        max_heap(a,2)\n",
    "        \n",
    "print (a[0])"
   ]
  },
  {
   "cell_type": "markdown",
   "metadata": {},
   "source": [
    "# using the inbuild Library of heap"
   ]
  },
  {
   "cell_type": "code",
   "execution_count": 38,
   "metadata": {},
   "outputs": [
    {
     "name": "stdout",
     "output_type": "stream",
     "text": [
      "4 1\n",
      "[1, 2, 3]\n",
      "[2, 4, 3]\n",
      "5 2\n",
      "[2, 4, 3]\n",
      "[3, 4, 5]\n",
      "6 3\n",
      "[3, 4, 5]\n",
      "[4, 6, 5]\n",
      "7 4\n",
      "[4, 6, 5]\n",
      "[5, 6, 7]\n",
      "8 5\n",
      "[5, 6, 7]\n",
      "[6, 8, 7]\n",
      "9 6\n",
      "[6, 8, 7]\n",
      "[7, 8, 9]\n"
     ]
    },
    {
     "data": {
      "text/plain": [
       "7"
      ]
     },
     "execution_count": 38,
     "metadata": {},
     "output_type": "execute_result"
    }
   ],
   "source": [
    "import heapq\n",
    "def findKthLargest(nums, k):\n",
    "    # minheap\n",
    "    array = nums[:k]\n",
    "    heapq.heapify(array)\n",
    "    for num in nums[k:]:\n",
    "        print (num,array[0])\n",
    "        print (array)\n",
    "        if num > array[0]:\n",
    "            heapq.heapreplace(array, num)\n",
    "            print (array)\n",
    "            \n",
    "            \n",
    "    return array[0]\n",
    "a=[1,2,3,4,5,6,7,8,9]\n",
    "findKthLargest(a,3)"
   ]
  }
 ],
 "metadata": {
  "kernelspec": {
   "display_name": "Python 3",
   "language": "python",
   "name": "python3"
  },
  "language_info": {
   "codemirror_mode": {
    "name": "ipython",
    "version": 3
   },
   "file_extension": ".py",
   "mimetype": "text/x-python",
   "name": "python",
   "nbconvert_exporter": "python",
   "pygments_lexer": "ipython3",
   "version": "3.7.1"
  }
 },
 "nbformat": 4,
 "nbformat_minor": 2
}

{
 "cells": [
  {
   "cell_type": "markdown",
   "metadata": {},
   "source": [
    "# Use cases of DFS:\n",
    "1. Used for finding Shortest path in Graph. (Prim's Algorithm and Dijkstra)\n",
    "2. Detect Cycle formation in a graph.\n",
    "3. Find path between 2 nodes of a graph.\n",
    "\n",
    "DFS uses Stack Data Structure"
   ]
  },
  {
   "cell_type": "code",
   "execution_count": 3,
   "metadata": {},
   "outputs": [
    {
     "name": "stdout",
     "output_type": "stream",
     "text": [
      "[[90, 1, 30], [81, 25, 25], [29, 32, 45]]\n",
      "[-1, 0, 1]\n"
     ]
    }
   ],
   "source": [
    "import random,sys\n",
    "#graph=[[random.randint(10,100) for j in range(3)] for i in range(3)]\n",
    "graph=[[90, 1, 30], [81, 25, 25], [29, 32, 45]]\n",
    "print(graph)\n",
    "\n",
    "\n",
    "\n",
    "def mindistance(dist,visited,v):\n",
    "    \n",
    "    minimum=sys.maxsize\n",
    "    \n",
    "    for i in range(v+1):\n",
    "        if dist[i]<minimum and visited[i]==False:\n",
    "            minimum=dist[i]\n",
    "            minimum_index=i\n",
    "    return minimum_index\n",
    "        \n",
    "def shortestpath(u,v):\n",
    "    '''This will find the shortes path between 2 nodes'''\n",
    "    dist=[sys.maxsize]*(v+1)\n",
    "    dist[0]=0\n",
    "    visited=[False]*(v+1)\n",
    "    parent=[0]*(v+1)\n",
    "    parent[0]=-1\n",
    "    \n",
    "    for i in range(v+1):\n",
    "        \n",
    "        u=mindistance(dist,visited,v)\n",
    "        visited[u]=True\n",
    "        for j in range(v+1):\n",
    "            if dist[j]>graph[u][j] and visited[j]==False and graph[u][j]>0:\n",
    "                dist[j]=graph[u][j]\n",
    "                parent[j]=u\n",
    "                \n",
    "    print (parent)\n",
    "\n",
    "shortestpath(0,2)"
   ]
  },
  {
   "cell_type": "code",
   "execution_count": null,
   "metadata": {},
   "outputs": [],
   "source": []
  }
 ],
 "metadata": {
  "kernelspec": {
   "display_name": "Python 3",
   "language": "python",
   "name": "python3"
  },
  "language_info": {
   "codemirror_mode": {
    "name": "ipython",
    "version": 3
   },
   "file_extension": ".py",
   "mimetype": "text/x-python",
   "name": "python",
   "nbconvert_exporter": "python",
   "pygments_lexer": "ipython3",
   "version": "3.5.2"
  }
 },
 "nbformat": 4,
 "nbformat_minor": 2
}
